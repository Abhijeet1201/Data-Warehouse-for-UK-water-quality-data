{
 "cells": [
  {
   "cell_type": "code",
   "execution_count": 1,
   "id": "bc3197a9",
   "metadata": {},
   "outputs": [],
   "source": [
    "import pandas as pd"
   ]
  },
  {
   "cell_type": "markdown",
   "id": "82510391",
   "metadata": {},
   "source": [
    "**Read Data**"
   ]
  },
  {
   "cell_type": "code",
   "execution_count": 12,
   "id": "a914e28d",
   "metadata": {},
   "outputs": [],
   "source": [
    "df = pd.read_csv('waterquality_ammonia.csv')"
   ]
  },
  {
   "cell_type": "code",
   "execution_count": 13,
   "id": "af96c064",
   "metadata": {
    "scrolled": true
   },
   "outputs": [
    {
     "data": {
      "text/html": [
       "<div>\n",
       "<style scoped>\n",
       "    .dataframe tbody tr th:only-of-type {\n",
       "        vertical-align: middle;\n",
       "    }\n",
       "\n",
       "    .dataframe tbody tr th {\n",
       "        vertical-align: top;\n",
       "    }\n",
       "\n",
       "    .dataframe thead th {\n",
       "        text-align: right;\n",
       "    }\n",
       "</style>\n",
       "<table border=\"1\" class=\"dataframe\">\n",
       "  <thead>\n",
       "    <tr style=\"text-align: right;\">\n",
       "      <th></th>\n",
       "      <th>SAMPLE_DATE</th>\n",
       "      <th>DETERMINAND_LABEL</th>\n",
       "      <th>RESULT</th>\n",
       "    </tr>\n",
       "  </thead>\n",
       "  <tbody>\n",
       "    <tr>\n",
       "      <th>0</th>\n",
       "      <td>04-01-2000</td>\n",
       "      <td>Ammonia(N)</td>\n",
       "      <td>10.40</td>\n",
       "    </tr>\n",
       "    <tr>\n",
       "      <th>1</th>\n",
       "      <td>04-01-2000</td>\n",
       "      <td>Ammonia(N)</td>\n",
       "      <td>6.22</td>\n",
       "    </tr>\n",
       "    <tr>\n",
       "      <th>2</th>\n",
       "      <td>10-01-2000</td>\n",
       "      <td>Ammonia(N)</td>\n",
       "      <td>3.58</td>\n",
       "    </tr>\n",
       "    <tr>\n",
       "      <th>3</th>\n",
       "      <td>24-01-2000</td>\n",
       "      <td>Ammonia(N)</td>\n",
       "      <td>34.80</td>\n",
       "    </tr>\n",
       "    <tr>\n",
       "      <th>4</th>\n",
       "      <td>24-01-2000</td>\n",
       "      <td>Ammonia(N)</td>\n",
       "      <td>0.03</td>\n",
       "    </tr>\n",
       "  </tbody>\n",
       "</table>\n",
       "</div>"
      ],
      "text/plain": [
       "  SAMPLE_DATE DETERMINAND_LABEL  RESULT\n",
       "0  04-01-2000        Ammonia(N)   10.40\n",
       "1  04-01-2000        Ammonia(N)    6.22\n",
       "2  10-01-2000        Ammonia(N)    3.58\n",
       "3  24-01-2000        Ammonia(N)   34.80\n",
       "4  24-01-2000        Ammonia(N)    0.03"
      ]
     },
     "execution_count": 13,
     "metadata": {},
     "output_type": "execute_result"
    }
   ],
   "source": [
    "df.head()"
   ]
  },
  {
   "cell_type": "code",
   "execution_count": 15,
   "id": "2b7c477c",
   "metadata": {},
   "outputs": [],
   "source": [
    "#Changing the datatype of sample_date\n",
    "df['SAMPLE_DATE']= pd.to_datetime(df['SAMPLE_DATE'])"
   ]
  },
  {
   "cell_type": "code",
   "execution_count": 19,
   "id": "2de4c361",
   "metadata": {},
   "outputs": [],
   "source": [
    "#Using the resample method on the time series column to get mean of month wise data \n",
    "df = df.resample(rule='M', on='SAMPLE_DATE')['RESULT'].mean()"
   ]
  },
  {
   "cell_type": "code",
   "execution_count": 20,
   "id": "ae1de8c5",
   "metadata": {},
   "outputs": [
    {
     "data": {
      "text/plain": [
       "SAMPLE_DATE\n",
       "2000-01-31    8.722500\n",
       "2000-02-29    0.036000\n",
       "2000-03-31    0.081400\n",
       "2000-04-30    5.706667\n",
       "2000-05-31    0.037750\n",
       "Freq: M, Name: RESULT, dtype: float64"
      ]
     },
     "execution_count": 20,
     "metadata": {},
     "output_type": "execute_result"
    }
   ],
   "source": [
    "df.head()"
   ]
  },
  {
   "cell_type": "code",
   "execution_count": 26,
   "id": "e70f2b60",
   "metadata": {},
   "outputs": [],
   "source": [
    "df1 = pd.DataFrame(df)"
   ]
  },
  {
   "cell_type": "code",
   "execution_count": 28,
   "id": "e47af98c",
   "metadata": {},
   "outputs": [
    {
     "name": "stdout",
     "output_type": "stream",
     "text": [
      "<class 'pandas.core.frame.DataFrame'>\n",
      "DatetimeIndex: 204 entries, 2000-01-31 to 2016-12-31\n",
      "Freq: M\n",
      "Data columns (total 1 columns):\n",
      " #   Column  Non-Null Count  Dtype  \n",
      "---  ------  --------------  -----  \n",
      " 0   RESULT  192 non-null    float64\n",
      "dtypes: float64(1)\n",
      "memory usage: 3.2 KB\n"
     ]
    }
   ],
   "source": [
    "df1.info()"
   ]
  },
  {
   "cell_type": "code",
   "execution_count": 37,
   "id": "7074bad5",
   "metadata": {},
   "outputs": [
    {
     "data": {
      "text/plain": [
       "12"
      ]
     },
     "execution_count": 37,
     "metadata": {},
     "output_type": "execute_result"
    }
   ],
   "source": [
    "#Checking for null values\n",
    "df1['RESULT'].isnull().sum()\n"
   ]
  },
  {
   "cell_type": "code",
   "execution_count": 40,
   "id": "cc0a2605",
   "metadata": {},
   "outputs": [],
   "source": [
    "#Filling the null values with 0 as no data was collected for those months\n",
    "df1['RESULT'] = df1['RESULT'].fillna(0)"
   ]
  },
  {
   "cell_type": "markdown",
   "id": "8b23b7af",
   "metadata": {},
   "source": [
    "**Plotting the Data**"
   ]
  },
  {
   "cell_type": "code",
   "execution_count": 41,
   "id": "6bb6ffd5",
   "metadata": {},
   "outputs": [
    {
     "data": {
      "text/plain": [
       "<AxesSubplot:xlabel='SAMPLE_DATE'>"
      ]
     },
     "execution_count": 41,
     "metadata": {},
     "output_type": "execute_result"
    },
    {
     "data": {
      "image/png": "[encoded data removed]",
      "text/plain": [
       "<Figure size 864x360 with 1 Axes>"
      ]
     },
     "metadata": {
      "needs_background": "light"
     },
     "output_type": "display_data"
    }
   ],
   "source": [
    "df1['RESULT'].plot(figsize=(12,5))"
   ]
  },
  {
   "cell_type": "markdown",
   "id": "20f64efc",
   "metadata": {},
   "source": [
    "**Checking For Stationarity**"
   ]
  },
  {
   "cell_type": "code",
   "execution_count": 42,
   "id": "a3c7cc5c",
   "metadata": {},
   "outputs": [],
   "source": [
    "from statsmodels.tsa.stattools import adfuller\n",
    "\n",
    "def adf_test(dataset):\n",
    "  dftest = adfuller(dataset, autolag = 'AIC')\n",
    "  print(\"1. ADF : \",dftest[0])\n",
    "  print(\"2. P-Value : \", dftest[1])\n",
    "  print(\"3. Num Of Lags : \", dftest[2])\n",
    "  print(\"4. Num Of Observations Used For ADF Regression and Critical Values Calculation :\", dftest[3])\n",
    "  print(\"5. Critical Values :\")\n",
    "  for key, val in dftest[4].items():\n",
    "      print(\"\\t\",key, \": \", val)"
   ]
  },
  {
   "cell_type": "code",
   "execution_count": 43,
   "id": "e6cc95cb",
   "metadata": {},
   "outputs": [
    {
     "name": "stdout",
     "output_type": "stream",
     "text": [
      "1. ADF :  -15.225333276311975\n",
      "2. P-Value :  5.413803172682968e-28\n",
      "3. Num Of Lags :  0\n",
      "4. Num Of Observations Used For ADF Regression and Critical Values Calculation : 203\n",
      "5. Critical Values :\n",
      "\t 1% :  -3.462980134086401\n",
      "\t 5% :  -2.875885461947131\n",
      "\t 10% :  -2.5744164898444515\n"
     ]
    }
   ],
   "source": [
    "adf_test(df1['RESULT'])"
   ]
  },
  {
   "cell_type": "code",
   "execution_count": 44,
   "id": "51b484ed",
   "metadata": {},
   "outputs": [
    {
     "name": "stdout",
     "output_type": "stream",
     "text": [
      "Requirement already satisfied: pmdarima in c:\\users\\wania\\anaconda3\\lib\\site-packages (1.8.4)\n",
      "Requirement already satisfied: statsmodels!=0.12.0,>=0.11 in c:\\users\\wania\\anaconda3\\lib\\site-packages (from pmdarima) (0.12.2)\n",
      "Requirement already satisfied: setuptools!=50.0.0,>=38.6.0 in c:\\users\\wania\\anaconda3\\lib\\site-packages (from pmdarima) (52.0.0.post20210125)\n",
      "Requirement already satisfied: numpy>=1.19.3 in c:\\users\\wania\\anaconda3\\lib\\site-packages (from pmdarima) (1.20.1)\n",
      "Requirement already satisfied: Cython!=0.29.18,>=0.29 in c:\\users\\wania\\anaconda3\\lib\\site-packages (from pmdarima) (0.29.23)\n",
      "Requirement already satisfied: joblib>=0.11 in c:\\users\\wania\\anaconda3\\lib\\site-packages (from pmdarima) (1.0.1)\n",
      "Requirement already satisfied: pandas>=0.19 in c:\\users\\wania\\anaconda3\\lib\\site-packages (from pmdarima) (1.3.5)\n",
      "Requirement already satisfied: scipy>=1.3.2 in c:\\users\\wania\\anaconda3\\lib\\site-packages (from pmdarima) (1.6.2)\n",
      "Requirement already satisfied: urllib3 in c:\\users\\wania\\anaconda3\\lib\\site-packages (from pmdarima) (1.26.4)\n",
      "Requirement already satisfied: scikit-learn>=0.22 in c:\\users\\wania\\anaconda3\\lib\\site-packages (from pmdarima) (0.24.1)\n",
      "Requirement already satisfied: python-dateutil>=2.7.3 in c:\\users\\wania\\anaconda3\\lib\\site-packages (from pandas>=0.19->pmdarima) (2.8.1)\n",
      "Requirement already satisfied: pytz>=2017.3 in c:\\users\\wania\\anaconda3\\lib\\site-packages (from pandas>=0.19->pmdarima) (2021.1)\n",
      "Requirement already satisfied: six>=1.5 in c:\\users\\wania\\anaconda3\\lib\\site-packages (from python-dateutil>=2.7.3->pandas>=0.19->pmdarima) (1.15.0)\n",
      "Requirement already satisfied: threadpoolctl>=2.0.0 in c:\\users\\wania\\anaconda3\\lib\\site-packages (from scikit-learn>=0.22->pmdarima) (2.1.0)\n",
      "Requirement already satisfied: patsy>=0.5 in c:\\users\\wania\\anaconda3\\lib\\site-packages (from statsmodels!=0.12.0,>=0.11->pmdarima) (0.5.1)\n"
     ]
    }
   ],
   "source": [
    "!pip install pmdarima\n",
    "from pmdarima import auto_arima\n",
    "# Ignore harmless warnings\n",
    "import warnings\n",
    "warnings.filterwarnings(\"ignore\")"
   ]
  },
  {
   "cell_type": "markdown",
   "id": "f36d6edb",
   "metadata": {},
   "source": [
    "**Figuring Out the Order for ARIMA Model**"
   ]
  },
  {
   "cell_type": "code",
   "execution_count": 56,
   "id": "da783f85",
   "metadata": {},
   "outputs": [
    {
     "name": "stdout",
     "output_type": "stream",
     "text": [
      "Performing stepwise search to minimize aic\n",
      " ARIMA(2,1,2)(0,0,0)[0] intercept   : AIC=inf, Time=0.23 sec\n",
      " ARIMA(0,1,0)(0,0,0)[0] intercept   : AIC=1252.440, Time=0.02 sec\n",
      " ARIMA(1,1,0)(0,0,0)[0] intercept   : AIC=1196.976, Time=0.03 sec\n",
      " ARIMA(0,1,1)(0,0,0)[0] intercept   : AIC=inf, Time=0.16 sec\n",
      " ARIMA(0,1,0)(0,0,0)[0]             : AIC=1250.453, Time=0.01 sec\n",
      " ARIMA(2,1,0)(0,0,0)[0] intercept   : AIC=1171.688, Time=0.06 sec\n",
      " ARIMA(3,1,0)(0,0,0)[0] intercept   : AIC=1158.117, Time=0.10 sec\n",
      " ARIMA(4,1,0)(0,0,0)[0] intercept   : AIC=1155.838, Time=0.14 sec\n",
      " ARIMA(5,1,0)(0,0,0)[0] intercept   : AIC=1147.345, Time=0.12 sec\n",
      " ARIMA(5,1,1)(0,0,0)[0] intercept   : AIC=inf, Time=0.53 sec\n",
      " ARIMA(4,1,1)(0,0,0)[0] intercept   : AIC=inf, Time=0.40 sec\n",
      " ARIMA(5,1,0)(0,0,0)[0]             : AIC=1145.384, Time=0.06 sec\n",
      " ARIMA(4,1,0)(0,0,0)[0]             : AIC=1153.872, Time=0.06 sec\n",
      " ARIMA(5,1,1)(0,0,0)[0]             : AIC=1108.458, Time=0.23 sec\n",
      " ARIMA(4,1,1)(0,0,0)[0]             : AIC=1110.176, Time=0.14 sec\n",
      " ARIMA(5,1,2)(0,0,0)[0]             : AIC=1109.973, Time=0.27 sec\n",
      " ARIMA(4,1,2)(0,0,0)[0]             : AIC=1110.235, Time=0.25 sec\n",
      "\n",
      "Best model:  ARIMA(5,1,1)(0,0,0)[0]          \n",
      "Total fit time: 2.838 seconds\n"
     ]
    },
    {
     "data": {
      "text/html": [
       "<table class=\"simpletable\">\n",
       "<caption>SARIMAX Results</caption>\n",
       "<tr>\n",
       "  <th>Dep. Variable:</th>           <td>y</td>        <th>  No. Observations:  </th>    <td>204</td>  \n",
       "</tr>\n",
       "<tr>\n",
       "  <th>Model:</th>           <td>SARIMAX(5, 1, 1)</td> <th>  Log Likelihood     </th> <td>-547.229</td>\n",
       "</tr>\n",
       "<tr>\n",
       "  <th>Date:</th>            <td>Tue, 25 Jan 2022</td> <th>  AIC                </th> <td>1108.458</td>\n",
       "</tr>\n",
       "<tr>\n",
       "  <th>Time:</th>                <td>02:16:12</td>     <th>  BIC                </th> <td>1131.650</td>\n",
       "</tr>\n",
       "<tr>\n",
       "  <th>Sample:</th>                  <td>0</td>        <th>  HQIC               </th> <td>1117.840</td>\n",
       "</tr>\n",
       "<tr>\n",
       "  <th></th>                      <td> - 204</td>      <th>                     </th>     <td> </td>   \n",
       "</tr>\n",
       "<tr>\n",
       "  <th>Covariance Type:</th>        <td>opg</td>       <th>                     </th>     <td> </td>   \n",
       "</tr>\n",
       "</table>\n",
       "<table class=\"simpletable\">\n",
       "<tr>\n",
       "     <td></td>       <th>coef</th>     <th>std err</th>      <th>z</th>      <th>P>|z|</th>  <th>[0.025</th>    <th>0.975]</th>  \n",
       "</tr>\n",
       "<tr>\n",
       "  <th>ar.L1</th>  <td>   -0.1053</td> <td>    0.202</td> <td>   -0.520</td> <td> 0.603</td> <td>   -0.502</td> <td>    0.291</td>\n",
       "</tr>\n",
       "<tr>\n",
       "  <th>ar.L2</th>  <td>   -0.1086</td> <td>    0.195</td> <td>   -0.557</td> <td> 0.577</td> <td>   -0.491</td> <td>    0.273</td>\n",
       "</tr>\n",
       "<tr>\n",
       "  <th>ar.L3</th>  <td>   -0.0736</td> <td>    0.143</td> <td>   -0.515</td> <td> 0.607</td> <td>   -0.354</td> <td>    0.207</td>\n",
       "</tr>\n",
       "<tr>\n",
       "  <th>ar.L4</th>  <td>   -0.0589</td> <td>    0.099</td> <td>   -0.595</td> <td> 0.552</td> <td>   -0.253</td> <td>    0.135</td>\n",
       "</tr>\n",
       "<tr>\n",
       "  <th>ar.L5</th>  <td>   -0.1373</td> <td>    0.208</td> <td>   -0.658</td> <td> 0.510</td> <td>   -0.546</td> <td>    0.271</td>\n",
       "</tr>\n",
       "<tr>\n",
       "  <th>ma.L1</th>  <td>   -0.9672</td> <td>    0.034</td> <td>  -28.103</td> <td> 0.000</td> <td>   -1.035</td> <td>   -0.900</td>\n",
       "</tr>\n",
       "<tr>\n",
       "  <th>sigma2</th> <td>   12.6263</td> <td>    0.758</td> <td>   16.649</td> <td> 0.000</td> <td>   11.140</td> <td>   14.113</td>\n",
       "</tr>\n",
       "</table>\n",
       "<table class=\"simpletable\">\n",
       "<tr>\n",
       "  <th>Ljung-Box (L1) (Q):</th>     <td>0.00</td> <th>  Jarque-Bera (JB):  </th> <td>5730.24</td>\n",
       "</tr>\n",
       "<tr>\n",
       "  <th>Prob(Q):</th>                <td>0.97</td> <th>  Prob(JB):          </th>  <td>0.00</td>  \n",
       "</tr>\n",
       "<tr>\n",
       "  <th>Heteroskedasticity (H):</th> <td>0.22</td> <th>  Skew:              </th>  <td>4.40</td>  \n",
       "</tr>\n",
       "<tr>\n",
       "  <th>Prob(H) (two-sided):</th>    <td>0.00</td> <th>  Kurtosis:          </th>  <td>27.49</td> \n",
       "</tr>\n",
       "</table><br/><br/>Warnings:<br/>[1] Covariance matrix calculated using the outer product of gradients (complex-step)."
      ],
      "text/plain": [
       "<class 'statsmodels.iolib.summary.Summary'>\n",
       "\"\"\"\n",
       "                               SARIMAX Results                                \n",
       "==============================================================================\n",
       "Dep. Variable:                      y   No. Observations:                  204\n",
       "Model:               SARIMAX(5, 1, 1)   Log Likelihood                -547.229\n",
       "Date:                Tue, 25 Jan 2022   AIC                           1108.458\n",
       "Time:                        02:16:12   BIC                           1131.650\n",
       "Sample:                             0   HQIC                          1117.840\n",
       "                                - 204                                         \n",
       "Covariance Type:                  opg                                         \n",
       "==============================================================================\n",
       "                 coef    std err          z      P>|z|      [0.025      0.975]\n",
       "------------------------------------------------------------------------------\n",
       "ar.L1         -0.1053      0.202     -0.520      0.603      -0.502       0.291\n",
       "ar.L2         -0.1086      0.195     -0.557      0.577      -0.491       0.273\n",
       "ar.L3         -0.0736      0.143     -0.515      0.607      -0.354       0.207\n",
       "ar.L4         -0.0589      0.099     -0.595      0.552      -0.253       0.135\n",
       "ar.L5         -0.1373      0.208     -0.658      0.510      -0.546       0.271\n",
       "ma.L1         -0.9672      0.034    -28.103      0.000      -1.035      -0.900\n",
       "sigma2        12.6263      0.758     16.649      0.000      11.140      14.113\n",
       "===================================================================================\n",
       "Ljung-Box (L1) (Q):                   0.00   Jarque-Bera (JB):              5730.24\n",
       "Prob(Q):                              0.97   Prob(JB):                         0.00\n",
       "Heteroskedasticity (H):               0.22   Skew:                             4.40\n",
       "Prob(H) (two-sided):                  0.00   Kurtosis:                        27.49\n",
       "===================================================================================\n",
       "\n",
       "Warnings:\n",
       "[1] Covariance matrix calculated using the outer product of gradients (complex-step).\n",
       "\"\"\""
      ]
     },
     "execution_count": 56,
     "metadata": {},
     "output_type": "execute_result"
    }
   ],
   "source": [
    "stepwise_fit = auto_arima(df1['RESULT'], trace = True,\n",
    "                          suppress_warnings=True)           \n",
    "\n",
    "stepwise_fit.summary()"
   ]
  },
  {
   "cell_type": "code",
   "execution_count": 46,
   "id": "6d388bb8",
   "metadata": {},
   "outputs": [],
   "source": [
    "from statsmodels.tsa.arima_model import ARIMA"
   ]
  },
  {
   "cell_type": "markdown",
   "id": "c33c8bbd",
   "metadata": {},
   "source": [
    "**Splitting the Data into Training and Testing**"
   ]
  },
  {
   "cell_type": "code",
   "execution_count": 62,
   "id": "d0f418a8",
   "metadata": {},
   "outputs": [
    {
     "name": "stdout",
     "output_type": "stream",
     "text": [
      "(204,)\n",
      "(180, 1) (24, 1)\n",
      "RESULT    1.69485\n",
      "Name: 2015-01-31 00:00:00, dtype: float64 RESULT    0.162333\n",
      "Name: 2016-12-31 00:00:00, dtype: float64\n"
     ]
    }
   ],
   "source": [
    "print(df.shape)\n",
    "train=df1.iloc[:-24]\n",
    "test=df1.iloc[-24:]\n",
    "print(train.shape,test.shape)\n",
    "print(test.iloc[0],test.iloc[-1])"
   ]
  },
  {
   "cell_type": "markdown",
   "id": "e54e697b",
   "metadata": {},
   "source": [
    "**Training the Model**"
   ]
  },
  {
   "cell_type": "code",
   "execution_count": 63,
   "id": "2dea8e71",
   "metadata": {},
   "outputs": [
    {
     "data": {
      "text/html": [
       "<table class=\"simpletable\">\n",
       "<caption>ARIMA Model Results</caption>\n",
       "<tr>\n",
       "  <th>Dep. Variable:</th>     <td>D.RESULT</td>     <th>  No. Observations:  </th>    <td>179</td>  \n",
       "</tr>\n",
       "<tr>\n",
       "  <th>Model:</th>          <td>ARIMA(5, 1, 1)</td>  <th>  Log Likelihood     </th> <td>-492.189</td>\n",
       "</tr>\n",
       "<tr>\n",
       "  <th>Method:</th>             <td>css-mle</td>     <th>  S.D. of innovations</th>   <td>3.720</td> \n",
       "</tr>\n",
       "<tr>\n",
       "  <th>Date:</th>          <td>Tue, 25 Jan 2022</td> <th>  AIC                </th> <td>1000.377</td>\n",
       "</tr>\n",
       "<tr>\n",
       "  <th>Time:</th>              <td>02:21:52</td>     <th>  BIC                </th> <td>1025.876</td>\n",
       "</tr>\n",
       "<tr>\n",
       "  <th>Sample:</th>           <td>02-29-2000</td>    <th>  HQIC               </th> <td>1010.717</td>\n",
       "</tr>\n",
       "<tr>\n",
       "  <th></th>                 <td>- 12-31-2014</td>   <th>                     </th>     <td> </td>   \n",
       "</tr>\n",
       "</table>\n",
       "<table class=\"simpletable\">\n",
       "<tr>\n",
       "         <td></td>           <th>coef</th>     <th>std err</th>      <th>z</th>      <th>P>|z|</th>  <th>[0.025</th>    <th>0.975]</th>  \n",
       "</tr>\n",
       "<tr>\n",
       "  <th>const</th>          <td>   -0.0093</td> <td>    0.004</td> <td>   -2.505</td> <td> 0.012</td> <td>   -0.017</td> <td>   -0.002</td>\n",
       "</tr>\n",
       "<tr>\n",
       "  <th>ar.L1.D.RESULT</th> <td>   -0.1018</td> <td>    0.075</td> <td>   -1.365</td> <td> 0.172</td> <td>   -0.248</td> <td>    0.044</td>\n",
       "</tr>\n",
       "<tr>\n",
       "  <th>ar.L2.D.RESULT</th> <td>   -0.1061</td> <td>    0.075</td> <td>   -1.421</td> <td> 0.155</td> <td>   -0.253</td> <td>    0.040</td>\n",
       "</tr>\n",
       "<tr>\n",
       "  <th>ar.L3.D.RESULT</th> <td>   -0.0702</td> <td>    0.075</td> <td>   -0.940</td> <td> 0.347</td> <td>   -0.217</td> <td>    0.076</td>\n",
       "</tr>\n",
       "<tr>\n",
       "  <th>ar.L4.D.RESULT</th> <td>   -0.0555</td> <td>    0.074</td> <td>   -0.746</td> <td> 0.456</td> <td>   -0.201</td> <td>    0.090</td>\n",
       "</tr>\n",
       "<tr>\n",
       "  <th>ar.L5.D.RESULT</th> <td>   -0.1341</td> <td>    0.074</td> <td>   -1.811</td> <td> 0.070</td> <td>   -0.279</td> <td>    0.011</td>\n",
       "</tr>\n",
       "<tr>\n",
       "  <th>ma.L1.D.RESULT</th> <td>   -1.0000</td> <td>    0.018</td> <td>  -56.481</td> <td> 0.000</td> <td>   -1.035</td> <td>   -0.965</td>\n",
       "</tr>\n",
       "</table>\n",
       "<table class=\"simpletable\">\n",
       "<caption>Roots</caption>\n",
       "<tr>\n",
       "    <td></td>   <th>            Real</th>  <th>         Imaginary</th> <th>         Modulus</th>  <th>        Frequency</th>\n",
       "</tr>\n",
       "<tr>\n",
       "  <th>AR.1</th> <td>           1.0671</td> <td>          -1.0024j</td> <td>           1.4641</td> <td>          -0.1200</td>\n",
       "</tr>\n",
       "<tr>\n",
       "  <th>AR.2</th> <td>           1.0671</td> <td>          +1.0024j</td> <td>           1.4641</td> <td>           0.1200</td>\n",
       "</tr>\n",
       "<tr>\n",
       "  <th>AR.3</th> <td>          -1.5367</td> <td>          -0.0000j</td> <td>           1.5367</td> <td>          -0.5000</td>\n",
       "</tr>\n",
       "<tr>\n",
       "  <th>AR.4</th> <td>          -0.5058</td> <td>          -1.4172j</td> <td>           1.5047</td> <td>          -0.3046</td>\n",
       "</tr>\n",
       "<tr>\n",
       "  <th>AR.5</th> <td>          -0.5058</td> <td>          +1.4172j</td> <td>           1.5047</td> <td>           0.3046</td>\n",
       "</tr>\n",
       "<tr>\n",
       "  <th>MA.1</th> <td>           1.0000</td> <td>          +0.0000j</td> <td>           1.0000</td> <td>           0.0000</td>\n",
       "</tr>\n",
       "</table>"
      ],
      "text/plain": [
       "<class 'statsmodels.iolib.summary.Summary'>\n",
       "\"\"\"\n",
       "                             ARIMA Model Results                              \n",
       "==============================================================================\n",
       "Dep. Variable:               D.RESULT   No. Observations:                  179\n",
       "Model:                 ARIMA(5, 1, 1)   Log Likelihood                -492.189\n",
       "Method:                       css-mle   S.D. of innovations              3.720\n",
       "Date:                Tue, 25 Jan 2022   AIC                           1000.377\n",
       "Time:                        02:21:52   BIC                           1025.876\n",
       "Sample:                    02-29-2000   HQIC                          1010.717\n",
       "                         - 12-31-2014                                         \n",
       "==================================================================================\n",
       "                     coef    std err          z      P>|z|      [0.025      0.975]\n",
       "----------------------------------------------------------------------------------\n",
       "const             -0.0093      0.004     -2.505      0.012      -0.017      -0.002\n",
       "ar.L1.D.RESULT    -0.1018      0.075     -1.365      0.172      -0.248       0.044\n",
       "ar.L2.D.RESULT    -0.1061      0.075     -1.421      0.155      -0.253       0.040\n",
       "ar.L3.D.RESULT    -0.0702      0.075     -0.940      0.347      -0.217       0.076\n",
       "ar.L4.D.RESULT    -0.0555      0.074     -0.746      0.456      -0.201       0.090\n",
       "ar.L5.D.RESULT    -0.1341      0.074     -1.811      0.070      -0.279       0.011\n",
       "ma.L1.D.RESULT    -1.0000      0.018    -56.481      0.000      -1.035      -0.965\n",
       "                                    Roots                                    \n",
       "=============================================================================\n",
       "                  Real          Imaginary           Modulus         Frequency\n",
       "-----------------------------------------------------------------------------\n",
       "AR.1            1.0671           -1.0024j            1.4641           -0.1200\n",
       "AR.2            1.0671           +1.0024j            1.4641            0.1200\n",
       "AR.3           -1.5367           -0.0000j            1.5367           -0.5000\n",
       "AR.4           -0.5058           -1.4172j            1.5047           -0.3046\n",
       "AR.5           -0.5058           +1.4172j            1.5047            0.3046\n",
       "MA.1            1.0000           +0.0000j            1.0000            0.0000\n",
       "-----------------------------------------------------------------------------\n",
       "\"\"\""
      ]
     },
     "execution_count": 63,
     "metadata": {},
     "output_type": "execute_result"
    }
   ],
   "source": [
    "from statsmodels.tsa.arima_model import ARIMA\n",
    "model=ARIMA(train['RESULT'],order=(5,1,1))\n",
    "model=model.fit()\n",
    "model.summary()"
   ]
  },
  {
   "cell_type": "markdown",
   "id": "38ee0bc5",
   "metadata": {},
   "source": [
    "**Making Predictions on Test Set**"
   ]
  },
  {
   "cell_type": "code",
   "execution_count": 64,
   "id": "3bb2b152",
   "metadata": {},
   "outputs": [
    {
     "data": {
      "text/plain": [
       "<AxesSubplot:xlabel='SAMPLE_DATE'>"
      ]
     },
     "execution_count": 64,
     "metadata": {},
     "output_type": "execute_result"
    },
    {
     "data": {
      "image/png": "[encoded data removed]",
      "text/plain": [
       "<Figure size 432x288 with 1 Axes>"
      ]
     },
     "metadata": {
      "needs_background": "light"
     },
     "output_type": "display_data"
    }
   ],
   "source": [
    "start=len(train)\n",
    "end=len(train)+len(test)-1\n",
    "#if the predicted values dont have date values as index, you will have to uncomment the following two commented lines to plot a graph\n",
    "#index_future_dates=pd.date_range(start='2018-12-01',end='2018-12-30')\n",
    "pred=model.predict(start=start,end=end,typ='levels').rename('ARIMA predictions')\n",
    "#pred.index=index_future_dates\n",
    "pred.plot(legend=True)\n",
    "test['RESULT'].plot(legend=True)"
   ]
  },
  {
   "cell_type": "code",
   "execution_count": 65,
   "id": "ec6e5347",
   "metadata": {},
   "outputs": [
    {
     "data": {
      "text/plain": [
       "0.5360842957287811"
      ]
     },
     "execution_count": 65,
     "metadata": {},
     "output_type": "execute_result"
    }
   ],
   "source": [
    "test['RESULT'].mean()"
   ]
  },
  {
   "cell_type": "code",
   "execution_count": 66,
   "id": "0fe76fd1",
   "metadata": {},
   "outputs": [
    {
     "name": "stdout",
     "output_type": "stream",
     "text": [
      "0.5287517975282693\n"
     ]
    }
   ],
   "source": [
    "from sklearn.metrics import mean_squared_error\n",
    "from math import sqrt\n",
    "rmse=sqrt(mean_squared_error(pred,test['RESULT']))\n",
    "print(rmse)"
   ]
  },
  {
   "cell_type": "code",
   "execution_count": null,
   "id": "d4d25dd4",
   "metadata": {},
   "outputs": [],
   "source": []
  }
 ],
 "metadata": {
  "kernelspec": {
   "display_name": "Python 3",
   "language": "python",
   "name": "python3"
  },
  "language_info": {
   "codemirror_mode": {
    "name": "ipython",
    "version": 3
   },
   "file_extension": ".py",
   "mimetype": "text/x-python",
   "name": "python",
   "nbconvert_exporter": "python",
   "pygments_lexer": "ipython3",
   "version": "3.8.8"
  }
 },
 "nbformat": 4,
 "nbformat_minor": 5
}
